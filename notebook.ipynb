{
 "cells": [
  {
   "cell_type": "code",
   "execution_count": 1,
   "metadata": {},
   "outputs": [],
   "source": [
    "import api_nyt as nyt\n",
    "import api_wikipedia as wiki\n",
    "import manage_articles as mng\n",
    "import statistics\n",
    "import datetime\n",
    "import pickle\n",
    "import timeseries\n",
    "import TextPreprocessing as txt\n",
    "from datetime import date\n",
    "import graphics\n",
    "import matplotlib.pyplot as plt\n",
    "import matching\n",
    "import time\n",
    "import word\n",
    "\n",
    "articles = mng.load_articles(\"nyt2019.json\")"
   ]
  },
  {
   "cell_type": "code",
   "execution_count": 2,
   "metadata": {},
   "outputs": [],
   "source": [
    "#headlines = mng.getWordCounts(articles,'headline')\n",
    "#with open(\"wordCount2019.txt\", \"wb\") as fp:\n",
    "#    pickle.dump(headlines, fp)\n",
    "#top = mng.getTopWordsForWeek(headlines)\n",
    "#distinctWords = mng.getDistinctWords(headlines)\n",
    "\n",
    "headlines = []\n",
    "with open(\"wordCount2019.txt\", \"rb\") as fp:\n",
    "    headlines = pickle.load(fp)\n",
    "distinctWords = mng.getDistinctWords(headlines)\n",
    "\n",
    "countsPerWeek = []\n",
    "for w in distinctWords:\n",
    "    countsPerWeek.append((w,mng.getCountPerWeek(headlines,w)))\n",
    "\n",
    "#ts = []\n",
    "#for c in countsPerWeek:\n",
    "#    ts.append(timeseries.Timeseries(c[0],c[1]))\n",
    "\n",
    "words = []\n",
    "for c in countsPerWeek:\n",
    "    words.append(word.Word(c[0],ts_articles=timeseries.Timeseries(c[1])))"
   ]
  },
  {
   "cell_type": "code",
   "execution_count": 3,
   "metadata": {},
   "outputs": [],
   "source": [
    "words = sorted(words, key=lambda x: sum(x.ts_articles.getCounts()), reverse=True)"
   ]
  },
  {
   "cell_type": "code",
   "execution_count": 4,
   "metadata": {},
   "outputs": [],
   "source": [
    "top_amount = 50\n",
    "\n",
    "keywords = []\n",
    "for i in range(top_amount):\n",
    "    keywords.append(words[i].keyword)\n",
    "\n",
    "m = matching.groupmatch(keywords, articles)\n",
    "for key in m.keys():\n",
    "    #Following line from \n",
    "    #https://stackoverflow.com/questions/7125467/find-object-in-list-that-has-attribute-equal-to-some-value-that-meets-any-condi\n",
    "    word = next((x for x in words if x.keyword == key), None)\n",
    "    word.coocKeywords = m[key]['query']\n",
    "    word.wikipediaSite = m[key]['link'][1]\n",
    "\n",
    "words_with_link = [w for w in words if w.wikipediaSite != \"\"]\n",
    "for word in words_with_link:\n",
    "    word.ts_wiki = timeseries.parseWikipediaCounts(wiki.get_counts(words[0].wikipediaSite, words[0].ts_articles.getStartDate(), words[0].ts_articles.getEndDate()))"
   ]
  },
  {
   "cell_type": "code",
   "execution_count": 15,
   "metadata": {},
   "outputs": [
    {
     "output_type": "execute_result",
     "data": {
      "text/plain": [
       "(0.29034577432510716, 0.03679506470936405)"
      ]
     },
     "metadata": {},
     "execution_count": 15
    }
   ],
   "source": [
    "statistics.getCorrelation(words[8].ts_articles.getCounts(),words[8].ts_wiki.getCounts())"
   ]
  },
  {
   "cell_type": "code",
   "execution_count": null,
   "metadata": {},
   "outputs": [],
   "source": []
  }
 ],
 "metadata": {
  "kernelspec": {
   "name": "python3",
   "display_name": "Python 3.8.2 64-bit",
   "metadata": {
    "interpreter": {
     "hash": "20bf69066c0dd38d51965b69d5e1b6e387082e3198ba56e97997ac55f4e50ad0"
    }
   }
  },
  "language_info": {
   "codemirror_mode": {
    "name": "ipython",
    "version": 3
   },
   "file_extension": ".py",
   "mimetype": "text/x-python",
   "name": "python",
   "nbconvert_exporter": "python",
   "pygments_lexer": "ipython3",
   "version": "3.8.2-final"
  }
 },
 "nbformat": 4,
 "nbformat_minor": 2
}