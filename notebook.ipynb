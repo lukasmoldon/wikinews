{
 "cells": [
  {
   "cell_type": "code",
   "execution_count": 1,
   "metadata": {},
   "outputs": [],
   "source": [
    "import api_nyt as nyt\n",
    "import api_wikipedia as wiki\n",
    "import manage_articles as mng\n",
    "import statistics\n",
    "import datetime\n",
    "import pickle\n",
    "import timeseries\n",
    "import TextPreprocessing as txt\n",
    "from datetime import date\n",
    "import graphics\n",
    "import matplotlib.pyplot as plt\n",
    "import matching\n",
    "import time\n",
    "import word\n",
    "import random\n",
    "import numpy\n",
    "\n",
    "articles = mng.load_articles(\"nyt2019.json\")"
   ]
  },
  {
   "cell_type": "code",
   "execution_count": 2,
   "metadata": {},
   "outputs": [],
   "source": [
    "#headlines = mng.getWordCounts(articles,'headline')\n",
    "#with open(\"wordCount2019.txt\", \"wb\") as fp:\n",
    "#    pickle.dump(headlines, fp)\n",
    "#top = mng.getTopWordsForWeek(headlines)\n",
    "#distinctWords = mng.getDistinctWords(headlines)\n",
    "\n",
    "headlines = []\n",
    "with open(\"wordCount2019.txt\", \"rb\") as fp:\n",
    "    headlines = pickle.load(fp)\n",
    "distinctWords = mng.getDistinctWords(headlines)\n",
    "\n",
    "countsPerWeek = []\n",
    "for w in distinctWords:\n",
    "    countsPerWeek.append((w,mng.getCountPerWeek(headlines,w)))\n",
    "\n",
    "words = []\n",
    "for c in countsPerWeek:\n",
    "    words.append(word.Word(c[0],ts_articles=timeseries.Timeseries(c[1])))\n",
    "words = sorted(words, key=lambda x: sum(x.ts_articles.getCounts()), reverse=True)"
   ]
  },
  {
   "cell_type": "code",
   "execution_count": 3,
   "metadata": {},
   "outputs": [
    {
     "output_type": "stream",
     "name": "stdout",
     "text": [
      "404 Not Found\n",
      "404 Not Found\n",
      "404 Not Found\n",
      "404 Not Found\n",
      "404 Not Found\n",
      "404 Not Found\n",
      "404 Not Found\n",
      "404 Not Found\n",
      "404 Not Found\n",
      "404 Not Found\n"
     ]
    }
   ],
   "source": [
    "top_amount = 150\n",
    "\n",
    "keywords = []\n",
    "for i in range(top_amount):\n",
    "    keywords.append(words[i].keyword)\n",
    "\n",
    "m = matching.groupmatch(keywords, articles)\n",
    "\n",
    "for key in m.keys():\n",
    "    #Following line from \n",
    "    #https://stackoverflow.com/questions/7125467/find-object-in-list-that-has-attribute-equal-to-some-value-that-meets-any-condi\n",
    "    word = next((x for x in words if x.keyword == key), None)\n",
    "    query = m[key]['query']\n",
    "    page = m[key]['link'][1]\n",
    "    \n",
    "    wiki_counts = wiki.get_counts(page, word.ts_articles.getStartDate(), word.ts_articles.getEndDate(),\"en\")\n",
    "    if wiki_counts is not None:\n",
    "        word.coocKeywords = query\n",
    "        word.wikipediaSite = page\n",
    "        word.ts_wiki = timeseries.parseWikipediaCounts(wiki_counts)\n",
    "    \n"
   ]
  },
  {
   "cell_type": "code",
   "execution_count": 4,
   "metadata": {},
   "outputs": [],
   "source": [
    "words_analyze = [x for x in words if x.wikipediaSite != \"\"]\n",
    "\n",
    "corr = []\n",
    "corr_rand = []\n",
    "\n",
    "a = [x for x in range(len(words_analyze))] \n",
    "b = [x for x in range(len(words_analyze))] \n",
    "random.shuffle(b)\n",
    "\n",
    "#remove words\n",
    "for w in words_analyze:\n",
    "    ts_a, ts_w = timeseries.alignTimeseries(w.ts_articles,w.ts_wiki)\n",
    "    if len(ts_w.getCounts())<2 or len(ts_a.getCounts())<2:\n",
    "        words_analyze.remove(w)\n",
    "    else:\n",
    "        corr.append(statistics.getCorrelation(ts_a.getCounts(),ts_w.getCounts()))\n"
   ]
  },
  {
   "cell_type": "code",
   "execution_count": 5,
   "metadata": {},
   "outputs": [
    {
     "output_type": "stream",
     "name": "stdout",
     "text": [
      "0.24973154623852784\n"
     ]
    }
   ],
   "source": [
    "import numpy\n",
    "print(numpy.mean(corr))"
   ]
  },
  {
   "cell_type": "code",
   "execution_count": null,
   "metadata": {},
   "outputs": [],
   "source": []
  }
 ],
 "metadata": {
  "kernelspec": {
   "name": "python3",
   "display_name": "Python 3.8.2 64-bit",
   "metadata": {
    "interpreter": {
     "hash": "20bf69066c0dd38d51965b69d5e1b6e387082e3198ba56e97997ac55f4e50ad0"
    }
   }
  },
  "language_info": {
   "codemirror_mode": {
    "name": "ipython",
    "version": 3
   },
   "file_extension": ".py",
   "mimetype": "text/x-python",
   "name": "python",
   "nbconvert_exporter": "python",
   "pygments_lexer": "ipython3",
   "version": "3.8.2-final"
  }
 },
 "nbformat": 4,
 "nbformat_minor": 2
}