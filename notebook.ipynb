{
 "metadata": {
  "language_info": {
   "codemirror_mode": {
    "name": "ipython",
    "version": 3
   },
   "file_extension": ".py",
   "mimetype": "text/x-python",
   "name": "python",
   "nbconvert_exporter": "python",
   "pygments_lexer": "ipython3",
   "version": "3.8.2-final"
  },
  "orig_nbformat": 2,
  "kernelspec": {
   "name": "python3",
   "display_name": "Python 3.8.2 64-bit",
   "metadata": {
    "interpreter": {
     "hash": "31f2aee4e71d21fbe5cf8b01ff0e069b9275f58929596ceb00d14d90e3e16cd6"
    }
   }
  }
 },
 "nbformat": 4,
 "nbformat_minor": 2,
 "cells": [
  {
   "cell_type": "code",
   "execution_count": 10,
   "metadata": {},
   "outputs": [],
   "source": [
    "import api_nyt as nyt\n",
    "import api_wikipedia as wiki\n",
    "import manage_articles as mng\n",
    "import statistics\n",
    "import datetime\n",
    "import pickle\n",
    "import timeseries\n",
    "import TextPreprocessing as txt\n",
    "from datetime import date\n",
    "articles = mng.load_articles(\"nyt2019.json\")"
   ]
  },
  {
   "cell_type": "code",
   "execution_count": 2,
   "metadata": {},
   "outputs": [],
   "source": [
    "#headlines = mng.getWordCounts(articles,'headline')\n",
    "#with open(\"wordCount2019.txt\", \"wb\") as fp:\n",
    "#    pickle.dump(headlines, fp)\n",
    "#top = mng.getTopWordsForWeek(headlines)\n",
    "#distinctWords = mng.getDistinctWords(headlines)\n",
    "\n",
    "headlines = []\n",
    "with open(\"wordCount2019.txt\", \"rb\") as fp:\n",
    "    headlines = pickle.load(fp)\n",
    "distinctWords = mng.getDistinctWords(headlines)\n",
    "\n",
    "countsPerWeek = []\n",
    "for w in distinctWords:\n",
    "    countsPerWeek.append((w,mng.getCountPerWeek(headlines,w)))\n",
    "\n",
    "ts = []\n",
    "for c in countsPerWeek:\n",
    "    ts.append(timeseries.Timeseries(c[0],c[1]))"
   ]
  },
  {
   "cell_type": "code",
   "execution_count": 3,
   "metadata": {},
   "outputs": [],
   "source": [
    "nouns = txt.getNouns(distinctWords)\n",
    "verbs = txt.getVerbs(distinctWords)"
   ]
  },
  {
   "cell_type": "code",
   "execution_count": 4,
   "metadata": {},
   "outputs": [],
   "source": [
    "ts_sorted = sorted(ts, key=lambda x: sum(x.getCounts()), reverse=True)"
   ]
  },
  {
   "cell_type": "code",
   "execution_count": 5,
   "metadata": {},
   "outputs": [
    {
     "output_type": "stream",
     "name": "stdout",
     "text": [
      "(0, 'trump')\n(1, 'review')\n(2, 'briefing')\n(3, 'u.s.')\n(4, 'says')\n(5, 'york')\n(6, 'day')\n(7, 'china')\n(8, 'world')\n(9, 'week')\n(10, 'house')\n(11, 'impeachment')\n(12, 'weekend')\n(13, 'women')\n(14, 'may')\n(15, 'democrats')\n(16, 'say')\n(17, 'tv')\n(18, 'city')\n(19, 'back')\n(20, 'get')\n(21, 'time')\n(22, 'first')\n(23, 'life')\n(24, 'hong')\n(25, 'kong')\n(26, 'police')\n(27, 'dead')\n(28, 'big')\n(29, 'black')\n(30, 'could')\n(31, 'n.y.c')\n(32, 'million')\n(33, 'president')\n(34, 'years')\n(35, 'love')\n(36, 'make')\n(37, 'art')\n(38, 'court')\n(39, 'like')\n(40, 'best')\n(41, 'white')\n(42, 'brexit')\n(43, 'american')\n(44, 'america')\n(45, 'california')\n(46, 'debate')\n(47, 'deal')\n(48, 'case')\n(49, 'trade')\n(50, 'iran')\n(51, 'climate')\n(52, 'two')\n(53, 'see')\n(54, 'democratic')\n(55, 'mueller')\n(56, 'know')\n(57, 'still')\n(58, 'home')\n(59, 'corrections')\n(60, 'politics')\n(61, 'quotation')\n(62, 'people')\n(63, 'family')\n(64, 'biden')\n(65, 'report')\n(66, 'state')\n(67, 'go')\n(68, 'border')\n(69, 'right')\n(70, 'quiz')\n(71, 'change')\n(72, 'election')\n(73, 'power')\n(74, 'us')\n(75, 'death')\n(76, 'children')\n(77, 'health')\n(78, 'way')\n(79, 'woman')\n(80, 'plan')\n(81, 'work')\n(82, 'season')\n(83, 'fall')\n(84, 'john')\n(85, 'show')\n(86, 'help')\n(87, 'year')\n(88, 'fight')\n(89, 'school')\n(90, 'race')\n(91, 'next')\n(92, 'history')\n(93, 'crisis')\n(94, 'north')\n(95, 'real')\n(96, 'shows')\n(97, 'star')\n(98, 'friday')\n(99, 'college')\n"
     ]
    }
   ],
   "source": [
    "for i in range(0,100):\n",
    "    print((i,ts_sorted[i].word))"
   ]
  },
  {
   "cell_type": "code",
   "execution_count": 12,
   "metadata": {},
   "outputs": [
    {
     "output_type": "error",
     "ename": "NameError",
     "evalue": "name 'plt' is not defined",
     "traceback": [
      "\u001b[0;31m---------------------------------------------------------------------------\u001b[0m",
      "\u001b[0;31mNameError\u001b[0m                                 Traceback (most recent call last)",
      "\u001b[0;32m<ipython-input-12-636993ac860f>\u001b[0m in \u001b[0;36m<module>\u001b[0;34m\u001b[0m\n\u001b[1;32m      1\u001b[0m \u001b[0mindex\u001b[0m \u001b[0;34m=\u001b[0m \u001b[0;36m24\u001b[0m\u001b[0;34m\u001b[0m\u001b[0;34m\u001b[0m\u001b[0m\n\u001b[0;32m----> 2\u001b[0;31m \u001b[0mplt\u001b[0m\u001b[0;34m.\u001b[0m\u001b[0msubplots\u001b[0m\u001b[0;34m(\u001b[0m\u001b[0;34m)\u001b[0m\u001b[0;34m\u001b[0m\u001b[0;34m\u001b[0m\u001b[0m\n\u001b[0m\u001b[1;32m      3\u001b[0m \u001b[0mstatistics\u001b[0m\u001b[0;34m.\u001b[0m\u001b[0mplot\u001b[0m\u001b[0;34m(\u001b[0m\u001b[0mts_sorted\u001b[0m\u001b[0;34m[\u001b[0m\u001b[0mindex\u001b[0m\u001b[0;34m]\u001b[0m\u001b[0;34m.\u001b[0m\u001b[0mword\u001b[0m\u001b[0;34m,\u001b[0m\u001b[0mts_sorted\u001b[0m\u001b[0;34m[\u001b[0m\u001b[0mindex\u001b[0m\u001b[0;34m]\u001b[0m\u001b[0;34m.\u001b[0m\u001b[0mgetCounts\u001b[0m\u001b[0;34m(\u001b[0m\u001b[0;34m)\u001b[0m\u001b[0;34m,\u001b[0m\u001b[0mts_sorted\u001b[0m\u001b[0;34m[\u001b[0m\u001b[0mindex\u001b[0m\u001b[0;34m]\u001b[0m\u001b[0;34m.\u001b[0m\u001b[0mgetDates\u001b[0m\u001b[0;34m(\u001b[0m\u001b[0;34m)\u001b[0m\u001b[0;34m)\u001b[0m\u001b[0;34m\u001b[0m\u001b[0;34m\u001b[0m\u001b[0m\n\u001b[1;32m      4\u001b[0m \u001b[0mwiki\u001b[0m\u001b[0;34m.\u001b[0m\u001b[0mplot_counts\u001b[0m\u001b[0;34m(\u001b[0m\u001b[0;34m\"Hong_Kong\"\u001b[0m\u001b[0;34m,\u001b[0m \u001b[0mdate\u001b[0m\u001b[0;34m(\u001b[0m\u001b[0;36m2019\u001b[0m\u001b[0;34m,\u001b[0m\u001b[0;36m1\u001b[0m\u001b[0;34m,\u001b[0m\u001b[0;36m1\u001b[0m\u001b[0;34m)\u001b[0m\u001b[0;34m,\u001b[0m \u001b[0mdate\u001b[0m\u001b[0;34m(\u001b[0m\u001b[0;36m2019\u001b[0m\u001b[0;34m,\u001b[0m\u001b[0;36m12\u001b[0m\u001b[0;34m,\u001b[0m\u001b[0;36m31\u001b[0m\u001b[0;34m)\u001b[0m\u001b[0;34m)\u001b[0m\u001b[0;34m\u001b[0m\u001b[0;34m\u001b[0m\u001b[0m\n",
      "\u001b[0;31mNameError\u001b[0m: name 'plt' is not defined"
     ]
    }
   ],
   "source": [
    "index = 24\n",
    "statistics.plot(ts_sorted[index].word,ts_sorted[index].getCounts(),ts_sorted[index].getDates())\n",
    "wiki.plot_counts(\"Hong_Kong\", date(2019,1,1), date(2019,12,31))"
   ]
  },
  {
   "cell_type": "code",
   "execution_count": null,
   "metadata": {},
   "outputs": [],
   "source": []
  }
 ]
}