{
 "cells": [
  {
   "cell_type": "code",
   "execution_count": 1,
   "metadata": {},
   "outputs": [],
   "source": [
    "import api_nyt as nyt\n",
    "import api_wikipedia as wiki\n",
    "import manage_articles as mng\n",
    "import statistics\n",
    "import datetime\n",
    "import pickle\n",
    "import timeseries\n",
    "import TextPreprocessing as txt\n",
    "from datetime import date\n",
    "import graphics\n",
    "import matplotlib.pyplot as plt\n",
    "import matching\n",
    "import time\n",
    "import word\n",
    "import random\n",
    "import numpy\n",
    "\n",
    "articles = mng.load_articles(\"nyt2019.json\")"
   ]
  },
  {
   "cell_type": "code",
   "execution_count": 4,
   "metadata": {},
   "outputs": [
    {
     "output_type": "execute_result",
     "data": {
      "text/plain": [
       "{'headline': '1919: The Year of the Crack-Up',\n",
       " 'pub_date': '2019-01-01T00:00:03+0000',\n",
       " 'web_url': 'https://www.nytimes.com/2018/12/31/opinion/1919-america.html',\n",
       " 'abstract': 'From the Treaty of Versailles to Prohibition, the events of that year shaped America, and the world, for a century to come. ',\n",
       " 'lead_paragraph': 'Throughout 2019, The New York Times Opinion section will publish an occasional series of essays on the ways in which the events of 1919 shaped the following century. ',\n",
       " 'keywords': [{'name': 'subject',\n",
       "   'value': 'United States Politics and Government',\n",
       "   'rank': 1,\n",
       "   'major': 'N'},\n",
       "  {'name': 'subject', 'value': 'New Year', 'rank': 2, 'major': 'N'},\n",
       "  {'name': 'organizations',\n",
       "   'value': 'League of Nations',\n",
       "   'rank': 3,\n",
       "   'major': 'N'},\n",
       "  {'name': 'persons', 'value': 'Wilson, Woodrow', 'rank': 4, 'major': 'N'},\n",
       "  {'name': 'glocations', 'value': 'Europe', 'rank': 5, 'major': 'N'}],\n",
       " 'document_type': 'article',\n",
       " 'type_of_material': 'Op-Ed',\n",
       " 'word_count': 2248,\n",
       " 'section_name': 'Opinion'}"
      ]
     },
     "metadata": {},
     "execution_count": 4
    }
   ],
   "source": [
    "liste = mng.get_articles_as_list(articles)\n",
    "liste[0]"
   ]
  },
  {
   "cell_type": "code",
   "execution_count": 3,
   "metadata": {},
   "outputs": [
    {
     "output_type": "execute_result",
     "data": {
      "text/plain": [
       "{'headline': '1919: The Year of the Crack-Up',\n",
       " 'pub_date': '2019-08-05',\n",
       " 'web_url': 'https://www.nytimes.com/2018/12/31/opinion/1919-america.html',\n",
       " 'abstract': 'From the Treaty of Versailles to Prohibition, the events of that year shaped America, and the world, for a century to come. ',\n",
       " 'lead_paragraph': 'Throughout 2019, The New York Times Opinion section will publish an occasional series of essays on the ways in which the events of 1919 shaped the following century. ',\n",
       " 'keywords': [{'name': 'subject',\n",
       "   'value': 'United States Politics and Government',\n",
       "   'rank': 1,\n",
       "   'major': 'N'},\n",
       "  {'name': 'subject', 'value': 'New Year', 'rank': 2, 'major': 'N'},\n",
       "  {'name': 'organizations',\n",
       "   'value': 'League of Nations',\n",
       "   'rank': 3,\n",
       "   'major': 'N'},\n",
       "  {'name': 'persons', 'value': 'Wilson, Woodrow', 'rank': 4, 'major': 'N'},\n",
       "  {'name': 'glocations', 'value': 'Europe', 'rank': 5, 'major': 'N'}],\n",
       " 'document_type': 'article',\n",
       " 'type_of_material': 'Op-Ed',\n",
       " 'word_count': 2248,\n",
       " 'section_name': 'Opinion'}"
      ]
     },
     "metadata": {},
     "execution_count": 3
    }
   ],
   "source": [
    "articles_shuffled = mng.shuffle_publicationdates(articles)\n",
    "liste_shuffled = mng.get_articles_as_list(articles_shuffled)\n",
    "liste_shuffled[0]"
   ]
  },
  {
   "cell_type": "code",
   "execution_count": 3,
   "metadata": {},
   "outputs": [],
   "source": [
    "#headlines = mng.getWordCounts(articles,'headline')\n",
    "#with open(\"wordCount2019.txt\", \"wb\") as fp:\n",
    "#    pickle.dump(headlines, fp)\n",
    "#top = mng.getTopWordsForWeek(headlines)\n",
    "#distinctWords = mng.getDistinctWords(headlines)\n",
    "\n",
    "#headlines = []\n",
    "#with open(\"wordCount2019.txt\", \"rb\") as fp:\n",
    "#    headlines = pickle.load(fp)\n",
    "#distinctWords = mng.getDistinctWords(headlines)\n",
    "\n",
    "articles_shuffled = mng.shuffle_publicationdates(articles)\n",
    "wordCounts = mng.getWordCounts(articles)\n",
    "distinctWords = mng.getDistinctWords(wordCounts)\n",
    "wordCounts_shuffled = mng.getWordCounts(articles_shuffled)\n",
    "distinctWords_shuffled = mng.getDistinctWords(wordCounts_shuffled)\n",
    "\n",
    "countsPerWeek = []\n",
    "for w in distinctWords:\n",
    "    countsPerWeek.append((w,mng.getCountPerWeek(wordCounts,w)))\n",
    "\n",
    "countsPerWeek_shuffled = []\n",
    "for w in distinctWords_shuffled:\n",
    "    countsPerWeek_shuffled.append((w,mng.getCountPerWeek(wordCounts_shuffled,w)))    \n",
    "\n",
    "words = []\n",
    "for c in countsPerWeek:\n",
    "    words.append(word.Word(c[0],ts_articles=timeseries.Timeseries(c[1])))\n",
    "words = sorted(words, key=lambda x: sum(x.ts_articles.getCounts()), reverse=True)\n",
    "\n",
    "words_shuffled = []\n",
    "for c in countsPerWeek_shuffled:\n",
    "    words_shuffled.append(word.Word(c[0],ts_articles=timeseries.Timeseries(c[1])))\n",
    "words_shuffled = sorted(words_shuffled, key=lambda x: sum(x.ts_articles.getCounts()), reverse=True)"
   ]
  },
  {
   "cell_type": "code",
   "execution_count": 12,
   "metadata": {},
   "outputs": [
    {
     "output_type": "execute_result",
     "data": {
      "text/plain": [
       "[datetime.date(2019, 8, 19),\n",
       " datetime.date(2019, 2, 4),\n",
       " datetime.date(2019, 5, 6),\n",
       " datetime.date(2019, 12, 23),\n",
       " datetime.date(2019, 2, 18),\n",
       " datetime.date(2019, 7, 22),\n",
       " datetime.date(2019, 4, 22),\n",
       " datetime.date(2019, 4, 8),\n",
       " datetime.date(2019, 6, 17),\n",
       " datetime.date(2019, 9, 2),\n",
       " datetime.date(2019, 10, 28),\n",
       " datetime.date(2019, 5, 13),\n",
       " datetime.date(2019, 11, 11),\n",
       " datetime.date(2019, 2, 25),\n",
       " datetime.date(2019, 7, 8),\n",
       " datetime.date(2019, 3, 4),\n",
       " datetime.date(2019, 10, 7),\n",
       " datetime.date(2019, 1, 21),\n",
       " datetime.date(2019, 1, 28),\n",
       " datetime.date(2018, 12, 31),\n",
       " datetime.date(2019, 10, 14),\n",
       " datetime.date(2019, 1, 7),\n",
       " datetime.date(2019, 9, 23),\n",
       " datetime.date(2019, 12, 16),\n",
       " datetime.date(2019, 11, 4),\n",
       " datetime.date(2019, 8, 5),\n",
       " datetime.date(2019, 12, 2),\n",
       " datetime.date(2019, 6, 3),\n",
       " datetime.date(2019, 3, 25),\n",
       " datetime.date(2019, 5, 20),\n",
       " datetime.date(2019, 12, 9),\n",
       " datetime.date(2019, 3, 18),\n",
       " datetime.date(2019, 11, 18),\n",
       " datetime.date(2019, 5, 27),\n",
       " datetime.date(2019, 7, 15),\n",
       " datetime.date(2019, 9, 30),\n",
       " datetime.date(2019, 7, 1),\n",
       " datetime.date(2019, 6, 10),\n",
       " datetime.date(2019, 9, 16),\n",
       " datetime.date(2019, 6, 24),\n",
       " datetime.date(2019, 8, 12),\n",
       " datetime.date(2019, 9, 9),\n",
       " datetime.date(2019, 4, 15),\n",
       " datetime.date(2019, 1, 14),\n",
       " datetime.date(2019, 4, 29),\n",
       " datetime.date(2019, 10, 21),\n",
       " datetime.date(2019, 7, 29),\n",
       " datetime.date(2019, 3, 11),\n",
       " datetime.date(2019, 2, 11),\n",
       " datetime.date(2019, 8, 26),\n",
       " datetime.date(2019, 4, 1),\n",
       " datetime.date(2019, 12, 30),\n",
       " datetime.date(2019, 11, 25)]"
      ]
     },
     "metadata": {},
     "execution_count": 12
    }
   ],
   "source": [
    "words[0].ts_articles.getDates()"
   ]
  },
  {
   "cell_type": "code",
   "execution_count": 3,
   "metadata": {},
   "outputs": [
    {
     "output_type": "stream",
     "name": "stdout",
     "text": [
      "404 Not Found\n",
      "404 Not Found\n",
      "404 Not Found\n",
      "404 Not Found\n",
      "404 Not Found\n",
      "404 Not Found\n",
      "404 Not Found\n",
      "404 Not Found\n",
      "404 Not Found\n",
      "404 Not Found\n"
     ]
    }
   ],
   "source": [
    "top_amount = 150\n",
    "\n",
    "keywords = []\n",
    "for i in range(top_amount):\n",
    "    keywords.append(words[i].keyword)\n",
    "\n",
    "m = matching.groupmatch(keywords, articles)\n",
    "\n",
    "for key in m.keys():\n",
    "    #Following line from \n",
    "    #https://stackoverflow.com/questions/7125467/find-object-in-list-that-has-attribute-equal-to-some-value-that-meets-any-condi\n",
    "    word = next((x for x in words if x.keyword == key), None)\n",
    "    query = m[key]['query']\n",
    "    page = m[key]['link'][1]\n",
    "    \n",
    "    wiki_counts = wiki.get_counts(page, word.ts_articles.getStartDate(), word.ts_articles.getEndDate(),\"en\")\n",
    "    if wiki_counts is not None:\n",
    "        word.coocKeywords = query\n",
    "        word.wikipediaSite = page\n",
    "        word.ts_wiki = timeseries.parseWikipediaCounts(wiki_counts)\n",
    "    \n"
   ]
  },
  {
   "cell_type": "code",
   "execution_count": 4,
   "metadata": {},
   "outputs": [],
   "source": [
    "words_analyze = [x for x in words if x.wikipediaSite != \"\"]\n",
    "\n",
    "corr = []\n",
    "corr_rand = []\n",
    "\n",
    "a = [x for x in range(len(words_analyze))] \n",
    "b = [x for x in range(len(words_analyze))] \n",
    "random.shuffle(b)\n",
    "\n",
    "#remove words\n",
    "for w in words_analyze:\n",
    "    ts_a, ts_w = timeseries.alignTimeseries(w.ts_articles,w.ts_wiki)\n",
    "    if len(ts_w.getCounts())<2 or len(ts_a.getCounts())<2:\n",
    "        words_analyze.remove(w)\n",
    "    else:\n",
    "        corr.append(statistics.getCorrelation(ts_a.getCounts(),ts_w.getCounts()))\n"
   ]
  },
  {
   "cell_type": "code",
   "execution_count": 5,
   "metadata": {},
   "outputs": [
    {
     "output_type": "stream",
     "name": "stdout",
     "text": [
      "0.24973154623852784\n"
     ]
    }
   ],
   "source": [
    "import numpy\n",
    "print(numpy.mean(corr))"
   ]
  },
  {
   "cell_type": "code",
   "execution_count": null,
   "metadata": {},
   "outputs": [],
   "source": []
  }
 ],
 "metadata": {
  "kernelspec": {
   "name": "python3",
   "display_name": "Python 3.8.2 64-bit",
   "metadata": {
    "interpreter": {
     "hash": "31f2aee4e71d21fbe5cf8b01ff0e069b9275f58929596ceb00d14d90e3e16cd6"
    }
   }
  },
  "language_info": {
   "codemirror_mode": {
    "name": "ipython",
    "version": 3
   },
   "file_extension": ".py",
   "mimetype": "text/x-python",
   "name": "python",
   "nbconvert_exporter": "python",
   "pygments_lexer": "ipython3",
   "version": "3.8.2-final"
  }
 },
 "nbformat": 4,
 "nbformat_minor": 2
}