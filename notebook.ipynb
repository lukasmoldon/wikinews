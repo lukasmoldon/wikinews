{
 "metadata": {
  "language_info": {
   "codemirror_mode": {
    "name": "ipython",
    "version": 3
   },
   "file_extension": ".py",
   "mimetype": "text/x-python",
   "name": "python",
   "nbconvert_exporter": "python",
   "pygments_lexer": "ipython3",
   "version": "3.8.2-final"
  },
  "orig_nbformat": 2,
  "kernelspec": {
   "name": "python3",
   "display_name": "Python 3.8.2 64-bit",
   "metadata": {
    "interpreter": {
     "hash": "31f2aee4e71d21fbe5cf8b01ff0e069b9275f58929596ceb00d14d90e3e16cd6"
    }
   }
  }
 },
 "nbformat": 4,
 "nbformat_minor": 2,
 "cells": [
  {
   "cell_type": "code",
   "execution_count": 1,
   "metadata": {},
   "outputs": [],
   "source": [
    "import api_nyt as nyt\n",
    "import manage_articles as mng\n",
    "import statistics\n",
    "import datetime\n",
    "import pickle\n",
    "import timeseries\n",
    "articles = mng.load_articles(\"nyt2019.json\")"
   ]
  },
  {
   "cell_type": "code",
   "execution_count": 26,
   "metadata": {},
   "outputs": [],
   "source": [
    "#headlines = mng.getWordCounts(articles,'headline')\n",
    "#with open(\"wordCount2019.txt\", \"wb\") as fp:\n",
    "#    pickle.dump(headlines, fp)\n",
    "#top = mng.getTopWordsForWeek(headlines)\n",
    "#distinctWords = mng.getDistinctWords(headlines)\n",
    "\n",
    "headlines = []\n",
    "with open(\"wordCount2019.txt\", \"rb\") as fp:\n",
    "    headlines = pickle.load(fp)\n",
    "distinctWords = mng.getDistinctWords(headlines)\n",
    "\n",
    "countsPerWeek = []\n",
    "for w in distinctWords:\n",
    "    countsPerWeek.append((w,mng.getCountPerWeek(headlines,w)))\n",
    "\n",
    "ts = []\n",
    "for c in countsPerWeek:\n",
    "    ts.append(timeseries.Timeseries(c[0],c[1]))"
   ]
  },
  {
   "cell_type": "code",
   "execution_count": 36,
   "metadata": {},
   "outputs": [
    {
     "output_type": "execute_result",
     "data": {
      "text/plain": [
       "2.7880917159763303"
      ]
     },
     "metadata": {},
     "execution_count": 36
    }
   ],
   "source": [
    "ts[233].variance"
   ]
  }
 ]
}